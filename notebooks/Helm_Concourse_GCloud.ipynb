{
  "nbformat": 4,
  "nbformat_minor": 0,
  "metadata": {
    "colab": {
      "name": "Helm-Concourse-GCloud.ipynb",
      "version": "0.3.2",
      "views": {},
      "default_view": {},
      "provenance": []
    },
    "kernelspec": {
      "name": "python3",
      "display_name": "Python 3"
    }
  },
  "cells": [
    {
      "metadata": {
        "id": "6oMNtc2RXk76",
        "colab_type": "text"
      },
      "cell_type": "markdown",
      "source": [
        "# Helm & Concourse on Google Kubernetes Engine"
      ]
    },
    {
      "metadata": {
        "id": "2KDGCnb7cPMl",
        "colab_type": "code",
        "colab": {
          "autoexec": {
            "startup": false,
            "wait_interval": 0
          },
          "base_uri": "https://localhost:8080/",
          "height": 107
        },
        "outputId": "ca2b2efb-401a-45e1-a370-c5bb1d9fb030",
        "executionInfo": {
          "status": "ok",
          "timestamp": 1530911616988,
          "user_tz": 360,
          "elapsed": 4932,
          "user": {
            "displayName": "Coleman Word",
            "photoUrl": "//lh5.googleusercontent.com/-qdXUkBBFKDE/AAAAAAAAAAI/AAAAAAAACTg/d_8GJ5X8GiU/s50-c-k-no/photo.jpg",
            "userId": "109145136271303497717"
          }
        }
      },
      "cell_type": "code",
      "source": [
        "!git clone https://github.com/Thekubebro/charts.git"
      ],
      "execution_count": 2,
      "outputs": [
        {
          "output_type": "stream",
          "text": [
            "Cloning into 'charts'...\n",
            "remote: Counting objects: 32309, done.\u001b[K\n",
            "remote: Total 32309 (delta 0), reused 0 (delta 0), pack-reused 32309\u001b[K\n",
            "Receiving objects: 100% (32309/32309), 7.92 MiB | 23.03 MiB/s, done.\n",
            "Resolving deltas: 100% (22721/22721), done.\n"
          ],
          "name": "stdout"
        }
      ]
    },
    {
      "metadata": {
        "id": "LO12DsUzcXXd",
        "colab_type": "code",
        "colab": {
          "autoexec": {
            "startup": false,
            "wait_interval": 0
          },
          "base_uri": "https://localhost:8080/",
          "height": 35
        },
        "outputId": "e13a36ea-5bbd-4aef-ef52-7722ea379a50",
        "executionInfo": {
          "status": "ok",
          "timestamp": 1530911624136,
          "user_tz": 360,
          "elapsed": 277,
          "user": {
            "displayName": "Coleman Word",
            "photoUrl": "//lh5.googleusercontent.com/-qdXUkBBFKDE/AAAAAAAAAAI/AAAAAAAACTg/d_8GJ5X8GiU/s50-c-k-no/photo.jpg",
            "userId": "109145136271303497717"
          }
        }
      },
      "cell_type": "code",
      "source": [
        "cd charts"
      ],
      "execution_count": 3,
      "outputs": [
        {
          "output_type": "stream",
          "text": [
            "/content/charts\n"
          ],
          "name": "stdout"
        }
      ]
    },
    {
      "metadata": {
        "id": "PMystqfya6uw",
        "colab_type": "text"
      },
      "cell_type": "markdown",
      "source": [
        "## Create a Kubernetes Engine cluster\n"
      ]
    },
    {
      "metadata": {
        "id": "z2Hd6cdOZFiG",
        "colab_type": "code",
        "colab": {
          "autoexec": {
            "startup": false,
            "wait_interval": 0
          }
        }
      },
      "cell_type": "code",
      "source": [
        "gcloud container clusters create concourse --image-type ubuntu \\\n",
        "    --machine-type n1-standard-2 --zone us-central1-f \\\n",
        "    --scopes cloud-source-repos-ro,storage-full"
      ],
      "execution_count": 0,
      "outputs": []
    },
    {
      "metadata": {
        "id": "4ATdy1-5bAXz",
        "colab_type": "text"
      },
      "cell_type": "markdown",
      "source": [
        "## Download the sample code\n"
      ]
    },
    {
      "metadata": {
        "id": "Oa4JiG-bZFoe",
        "colab_type": "code",
        "colab": {
          "autoexec": {
            "startup": false,
            "wait_interval": 0
          }
        }
      },
      "cell_type": "code",
      "source": [
        "wget https://gke-concourse.storage.googleapis.com/sample-app-v4.zip\n",
        "unzip sample-app-v4.zip\n",
        "cd concourse-continuous-delivery-master"
      ],
      "execution_count": 0,
      "outputs": []
    },
    {
      "metadata": {
        "id": "NO7Xh4w0bEHP",
        "colab_type": "text"
      },
      "cell_type": "markdown",
      "source": [
        "## Deploying Concourse using Helm\n"
      ]
    },
    {
      "metadata": {
        "id": "B3APEtzGXyDT",
        "colab_type": "text"
      },
      "cell_type": "markdown",
      "source": [
        "### Install Helm"
      ]
    },
    {
      "metadata": {
        "id": "4IcAPGIfXiog",
        "colab_type": "code",
        "colab": {
          "autoexec": {
            "startup": false,
            "wait_interval": 0
          }
        }
      },
      "cell_type": "code",
      "source": [
        "wget https://storage.googleapis.com/kubernetes-helm/helm-v2.6.2-linux-amd64.tar.gz"
      ],
      "execution_count": 0,
      "outputs": []
    },
    {
      "metadata": {
        "id": "krvQLjkBYqjH",
        "colab_type": "code",
        "colab": {
          "autoexec": {
            "startup": false,
            "wait_interval": 0
          }
        }
      },
      "cell_type": "code",
      "source": [
        "tar zxfv helm-v2.6.2-linux-amd64.tar.gz\n",
        "cp linux-amd64/helm ."
      ],
      "execution_count": 0,
      "outputs": []
    },
    {
      "metadata": {
        "id": "JCRnoEusYsvg",
        "colab_type": "code",
        "colab": {
          "autoexec": {
            "startup": false,
            "wait_interval": 0
          }
        }
      },
      "cell_type": "code",
      "source": [
        "kubectl create clusterrolebinding user-admin-binding --clusterrole=cluster-admin --user=$(gcloud config get-value account)"
      ],
      "execution_count": 0,
      "outputs": []
    },
    {
      "metadata": {
        "id": "eVukvvxBYu-8",
        "colab_type": "code",
        "colab": {
          "autoexec": {
            "startup": false,
            "wait_interval": 0
          }
        }
      },
      "cell_type": "code",
      "source": [
        "kubectl create serviceaccount tiller --namespace kube-system"
      ],
      "execution_count": 0,
      "outputs": []
    },
    {
      "metadata": {
        "id": "-MEf2fhQYxzl",
        "colab_type": "code",
        "colab": {
          "autoexec": {
            "startup": false,
            "wait_interval": 0
          }
        }
      },
      "cell_type": "code",
      "source": [
        "kubectl create clusterrolebinding tiller-admin-binding --clusterrole=cluster-admin --serviceaccount=kube-system:tiller"
      ],
      "execution_count": 0,
      "outputs": []
    },
    {
      "metadata": {
        "id": "JqNPZy0xY0Ux",
        "colab_type": "code",
        "colab": {
          "autoexec": {
            "startup": false,
            "wait_interval": 0
          }
        }
      },
      "cell_type": "code",
      "source": [
        "kubectl create clusterrolebinding --clusterrole=cluster-admin --serviceaccount=default:default concourse-admin"
      ],
      "execution_count": 0,
      "outputs": []
    },
    {
      "metadata": {
        "id": "eqqBKk2dY3qF",
        "colab_type": "code",
        "colab": {
          "autoexec": {
            "startup": false,
            "wait_interval": 0
          }
        }
      },
      "cell_type": "code",
      "source": [
        "./helm init --service-account=tiller\n",
        "./helm update"
      ],
      "execution_count": 0,
      "outputs": []
    },
    {
      "metadata": {
        "id": "z3tB5jBTY6EU",
        "colab_type": "code",
        "colab": {
          "autoexec": {
            "startup": false,
            "wait_interval": 0
          }
        }
      },
      "cell_type": "code",
      "source": [
        "export PROJECT=$(gcloud info --format='value(config.project)')\n",
        "export BUCKET=$PROJECT-helm-repo\n",
        "./helm plugin install https://github.com/viglesiasce/helm-gcs.git --version v0.1.1\n",
        "gsutil mb -l us-central1 gs://$BUCKET\n",
        "./helm gcs init gs://$BUCKET"
      ],
      "execution_count": 0,
      "outputs": []
    },
    {
      "metadata": {
        "id": "lC1YGScSY68p",
        "colab_type": "code",
        "colab": {
          "autoexec": {
            "startup": false,
            "wait_interval": 0
          }
        }
      },
      "cell_type": "code",
      "source": [
        ""
      ],
      "execution_count": 0,
      "outputs": []
    },
    {
      "metadata": {
        "id": "9ZiJgQpPY8sj",
        "colab_type": "code",
        "colab": {
          "autoexec": {
            "startup": false,
            "wait_interval": 0
          }
        }
      },
      "cell_type": "code",
      "source": [
        "./helm version"
      ],
      "execution_count": 0,
      "outputs": []
    },
    {
      "metadata": {
        "id": "HZsl2n91YMuC",
        "colab_type": "code",
        "colab": {
          "autoexec": {
            "startup": false,
            "wait_interval": 0
          }
        }
      },
      "cell_type": "code",
      "source": [
        "kubectl apply -f create-helm-service.yaml"
      ],
      "execution_count": 0,
      "outputs": []
    },
    {
      "metadata": {
        "id": "TgEEMO2obIud",
        "colab_type": "text"
      },
      "cell_type": "markdown",
      "source": [
        "## Deploy Concourse\n"
      ]
    },
    {
      "metadata": {
        "id": "3Jod_Yb3ZPcH",
        "colab_type": "code",
        "colab": {
          "autoexec": {
            "startup": false,
            "wait_interval": 0
          }
        }
      },
      "cell_type": "code",
      "source": [
        "export PASSWORD=$(openssl rand -base64 15)\n",
        "cat > concourse.yaml <<EOF\n",
        "concourse:\n",
        "  password: $PASSWORD\n",
        "  baggageclaimDriver: overlay\n",
        "web:\n",
        "  service:\n",
        "    type: LoadBalancer\n",
        "EOF\n"
      ],
      "execution_count": 0,
      "outputs": []
    },
    {
      "metadata": {
        "id": "HAa23UWMZRfp",
        "colab_type": "code",
        "colab": {
          "autoexec": {
            "startup": false,
            "wait_interval": 0
          }
        }
      },
      "cell_type": "code",
      "source": [
        "./helm install stable/concourse --name concourse -f concourse.yaml --version 0.10.0"
      ],
      "execution_count": 0,
      "outputs": []
    },
    {
      "metadata": {
        "id": "3gO1TNv0ZUHR",
        "colab_type": "code",
        "colab": {
          "autoexec": {
            "startup": false,
            "wait_interval": 0
          }
        }
      },
      "cell_type": "code",
      "source": [
        "kubectl get pods -l app=concourse-web"
      ],
      "execution_count": 0,
      "outputs": []
    },
    {
      "metadata": {
        "id": "3OATKBcTZXmp",
        "colab_type": "code",
        "colab": {
          "autoexec": {
            "startup": false,
            "wait_interval": 0
          }
        }
      },
      "cell_type": "code",
      "source": [
        "export SERVICE_IP=$(kubectl get svc \\\n",
        "    --namespace default concourse-web \\\n",
        "    -o jsonpath='{.status.loadBalancer.ingress[0].ip}')\n",
        "wget -O fly \"http://$SERVICE_IP:8080/api/v1/cli?arch=amd64&platform=linux\"\n",
        "chmod +x fly"
      ],
      "execution_count": 0,
      "outputs": []
    },
    {
      "metadata": {
        "id": "injISzlZZZhr",
        "colab_type": "code",
        "colab": {
          "autoexec": {
            "startup": false,
            "wait_interval": 0
          }
        }
      },
      "cell_type": "code",
      "source": [
        "./fly -t local login -u concourse -p $PASSWORD -c http://$SERVICE_IP:8080"
      ],
      "execution_count": 0,
      "outputs": []
    },
    {
      "metadata": {
        "id": "XMGIbGXVZbHT",
        "colab_type": "code",
        "colab": {
          "autoexec": {
            "startup": false,
            "wait_interval": 0
          }
        }
      },
      "cell_type": "code",
      "source": [
        "export SERVICE_IP=$(kubectl get svc \\\n",
        "    --namespace default concourse-web \\\n",
        "    -o jsonpath='{.status.loadBalancer.ingress[0].ip}')\n",
        "printf \"Concourse URL: [http://$SERVICE_IP:8080]\\nUsername: concourse\\nPassword: $PASSWORD\\n\""
      ],
      "execution_count": 0,
      "outputs": []
    },
    {
      "metadata": {
        "id": "l5i47azdbPU_",
        "colab_type": "text"
      },
      "cell_type": "markdown",
      "source": [
        "## Configure identity and access management\n"
      ]
    },
    {
      "metadata": {
        "id": "Th3GC5e7Zdj9",
        "colab_type": "code",
        "colab": {
          "autoexec": {
            "startup": false,
            "wait_interval": 0
          }
        }
      },
      "cell_type": "code",
      "source": [
        "gcloud iam service-accounts create concourse --display-name concourse"
      ],
      "execution_count": 0,
      "outputs": []
    },
    {
      "metadata": {
        "id": "tVlqOvpNZe9_",
        "colab_type": "code",
        "colab": {
          "autoexec": {
            "startup": false,
            "wait_interval": 0
          }
        }
      },
      "cell_type": "code",
      "source": [
        "export SA_EMAIL=$(gcloud iam service-accounts list \\\n",
        "    --filter=\"displayName:concourse\" --format='value(email)')\n",
        "export PROJECT=$(gcloud info --format='value(config.project)')"
      ],
      "execution_count": 0,
      "outputs": []
    },
    {
      "metadata": {
        "id": "ryV2BPhnZhEA",
        "colab_type": "code",
        "colab": {
          "autoexec": {
            "startup": false,
            "wait_interval": 0
          }
        }
      },
      "cell_type": "code",
      "source": [
        "gcloud projects add-iam-policy-binding $PROJECT \\\n",
        "    --role roles/storage.admin --member serviceAccount:$SA_EMAIL"
      ],
      "execution_count": 0,
      "outputs": []
    },
    {
      "metadata": {
        "id": "z6zwlWtrZjPI",
        "colab_type": "code",
        "colab": {
          "autoexec": {
            "startup": false,
            "wait_interval": 0
          }
        }
      },
      "cell_type": "code",
      "source": [
        "gcloud iam service-accounts keys create concourse-sa.json \\\n",
        "    --iam-account $SA_EMAIL"
      ],
      "execution_count": 0,
      "outputs": []
    },
    {
      "metadata": {
        "id": "wlCintE9bUV1",
        "colab_type": "text"
      },
      "cell_type": "markdown",
      "source": [
        "## Deploying your application\n"
      ]
    },
    {
      "metadata": {
        "id": "aY1hZd2sZlaZ",
        "colab_type": "code",
        "colab": {
          "autoexec": {
            "startup": false,
            "wait_interval": 0
          }
        }
      },
      "cell_type": "code",
      "source": [
        "gcloud source repos create chart-source\n",
        "gcloud source repos create app-source"
      ],
      "execution_count": 0,
      "outputs": []
    },
    {
      "metadata": {
        "id": "me-XsA-7ZoAJ",
        "colab_type": "code",
        "colab": {
          "autoexec": {
            "startup": false,
            "wait_interval": 0
          }
        }
      },
      "cell_type": "code",
      "source": [
        "git config --global user.email \"[EMAIL_ADDRESS]\"\n",
        "git config --global user.name \"[USERNAME]\""
      ],
      "execution_count": 0,
      "outputs": []
    },
    {
      "metadata": {
        "id": "VxBdHkoyZp49",
        "colab_type": "code",
        "colab": {
          "autoexec": {
            "startup": false,
            "wait_interval": 0
          }
        }
      },
      "cell_type": "code",
      "source": [
        "export PROJECT=$(gcloud info --format='value(config.project)')\n",
        "for repo in app-source chart-source; do\n",
        "cd $repo\n",
        "git init && git add . && git commit -m 'Initial commit'\n",
        "git config credential.helper gcloud.sh\n",
        "git remote add google \\\n",
        "    https://source.developers.google.com/p/$PROJECT/r/$repo\n",
        "    git push --all google\n",
        "cd ..\n",
        "done"
      ],
      "execution_count": 0,
      "outputs": []
    },
    {
      "metadata": {
        "id": "979IS80TbhLz",
        "colab_type": "text"
      },
      "cell_type": "markdown",
      "source": [
        "## Configure and create the pipeline\n"
      ]
    },
    {
      "metadata": {
        "id": "ixR2QFjXZr8h",
        "colab_type": "code",
        "colab": {
          "autoexec": {
            "startup": false,
            "wait_interval": 0
          }
        }
      },
      "cell_type": "code",
      "source": [
        "export PROJECT=$(gcloud info --format='value(config.project)')\n",
        "export BUCKET=$PROJECT-helm-repo\n",
        "export TOKEN_SECRET=$(kubectl get serviceaccount default -o jsonpath=\"{.secrets[0].name}\")\n",
        "export CLUSTER_CA=$(kubectl get secret $TOKEN_SECRET -o jsonpath='{.data.ca\\.crt}')\n",
        "export TOKEN=$(kubectl get secret $TOKEN_SECRET -o jsonpath='{.data.token}' | base64 --decode)\n",
        "\n",
        "cat > params.yaml <<EOF\n",
        "chart_name: nginx\n",
        "release_name: dev-site\n",
        "bucket: $BUCKET\n",
        "cluster_ca: $CLUSTER_CA\n",
        "token: $TOKEN\n",
        "project: $PROJECT\n",
        "service_account_json: '$(cat concourse-sa.json)'\n",
        "EOF"
      ],
      "execution_count": 0,
      "outputs": []
    },
    {
      "metadata": {
        "id": "efEu5tfKZt30",
        "colab_type": "code",
        "colab": {
          "autoexec": {
            "startup": false,
            "wait_interval": 0
          }
        }
      },
      "cell_type": "code",
      "source": [
        "./fly -t local set-pipeline -p dev-site-deploy \\\n",
        "    -c pipeline.yaml -l params.yaml -n"
      ],
      "execution_count": 0,
      "outputs": []
    },
    {
      "metadata": {
        "id": "y5BZjuPpZvS2",
        "colab_type": "code",
        "colab": {
          "autoexec": {
            "startup": false,
            "wait_interval": 0
          }
        }
      },
      "cell_type": "code",
      "source": [
        "./fly -t local unpause-pipeline -p dev-site-deploy"
      ],
      "execution_count": 0,
      "outputs": []
    },
    {
      "metadata": {
        "id": "BByS5LKLblDE",
        "colab_type": "text"
      },
      "cell_type": "markdown",
      "source": [
        "## Deploying your application for the first time\n"
      ]
    },
    {
      "metadata": {
        "id": "5pK8XIvzZxdM",
        "colab_type": "code",
        "colab": {
          "autoexec": {
            "startup": false,
            "wait_interval": 0
          }
        }
      },
      "cell_type": "code",
      "source": [
        "for repo in app-source chart-source; do\n",
        "    cd $repo\n",
        "    git tag v1.0.0\n",
        "    git push google --tags\n",
        "    cd ..\n",
        "done"
      ],
      "execution_count": 0,
      "outputs": []
    },
    {
      "metadata": {
        "id": "QDcCiRfVZzS1",
        "colab_type": "code",
        "colab": {
          "autoexec": {
            "startup": false,
            "wait_interval": 0
          }
        }
      },
      "cell_type": "code",
      "source": [
        "export POD_NAME=$(kubectl get pods --namespace default \\\n",
        "    -l \"app=nginx,release=dev-site\" \\\n",
        "    -o jsonpath=\"{.items[0].metadata.name}\")\n",
        "kubectl port-forward $POD_NAME 8080:80 &\n",
        "curl -is localhost:8080 | grep 'Server\\|color'"
      ],
      "execution_count": 0,
      "outputs": []
    },
    {
      "metadata": {
        "id": "p4XE4BY4Z6pP",
        "colab_type": "code",
        "colab": {
          "autoexec": {
            "startup": false,
            "wait_interval": 0
          }
        }
      },
      "cell_type": "code",
      "source": [
        "killall kubectl"
      ],
      "execution_count": 0,
      "outputs": []
    },
    {
      "metadata": {
        "id": "dR2bqBP3Z8Y3",
        "colab_type": "code",
        "colab": {
          "autoexec": {
            "startup": false,
            "wait_interval": 0
          }
        }
      },
      "cell_type": "code",
      "source": [
        "cd app-source"
      ],
      "execution_count": 0,
      "outputs": []
    },
    {
      "metadata": {
        "id": "rr1_lVr0Z9_h",
        "colab_type": "code",
        "colab": {
          "autoexec": {
            "startup": false,
            "wait_interval": 0
          }
        }
      },
      "cell_type": "code",
      "source": [
        "sed -i s/stable/latest/ Dockerfile"
      ],
      "execution_count": 0,
      "outputs": []
    },
    {
      "metadata": {
        "id": "2NnJnkxsZ_6F",
        "colab_type": "code",
        "colab": {
          "autoexec": {
            "startup": false,
            "wait_interval": 0
          }
        }
      },
      "cell_type": "code",
      "source": [
        "git add Dockerfile\n",
        "git commit -m 'Use latest NGINX'\n",
        "git tag v2.0.0"
      ],
      "execution_count": 0,
      "outputs": []
    },
    {
      "metadata": {
        "id": "aKXZoSqZaBj0",
        "colab_type": "code",
        "colab": {
          "autoexec": {
            "startup": false,
            "wait_interval": 0
          }
        }
      },
      "cell_type": "code",
      "source": [
        "git push google --mirror"
      ],
      "execution_count": 0,
      "outputs": []
    },
    {
      "metadata": {
        "id": "4a-XjJuyaDm0",
        "colab_type": "code",
        "colab": {
          "autoexec": {
            "startup": false,
            "wait_interval": 0
          }
        }
      },
      "cell_type": "code",
      "source": [
        "../fly -t local check-resource -r dev-site-deploy/app-source"
      ],
      "execution_count": 0,
      "outputs": []
    },
    {
      "metadata": {
        "id": "tYj5mBZrboRw",
        "colab_type": "text"
      },
      "cell_type": "markdown",
      "source": [
        "## Deploying a change to the application\n"
      ]
    },
    {
      "metadata": {
        "id": "24gko2QyaGIF",
        "colab_type": "code",
        "colab": {
          "autoexec": {
            "startup": false,
            "wait_interval": 0
          }
        }
      },
      "cell_type": "code",
      "source": [
        "export POD_NAME=$(kubectl get pods --namespace default \\\n",
        "    -l \"app=nginx,release=dev-site\" \\\n",
        "    -o jsonpath=\"{.items[0].metadata.name}\")\n",
        "kubectl port-forward $POD_NAME 8080:80 &\n",
        "curl -is localhost:8080 | grep 'Server\\|color'"
      ],
      "execution_count": 0,
      "outputs": []
    },
    {
      "metadata": {
        "id": "nmfTPUPWaHn6",
        "colab_type": "code",
        "colab": {
          "autoexec": {
            "startup": false,
            "wait_interval": 0
          }
        }
      },
      "cell_type": "code",
      "source": [
        "Server: nginx/1.15.0\n",
        "<h1 style=\"color:blue;\">Welcome to the sample app!</h1>"
      ],
      "execution_count": 0,
      "outputs": []
    },
    {
      "metadata": {
        "id": "S1twZ5LeaJGN",
        "colab_type": "code",
        "colab": {
          "autoexec": {
            "startup": false,
            "wait_interval": 0
          }
        }
      },
      "cell_type": "code",
      "source": [
        "killall kubectl"
      ],
      "execution_count": 0,
      "outputs": []
    },
    {
      "metadata": {
        "id": "3Ec0X2_lbx56",
        "colab_type": "text"
      },
      "cell_type": "markdown",
      "source": [
        "## Deploying a change to the chart\n"
      ]
    },
    {
      "metadata": {
        "id": "Yejhg-LBaMGz",
        "colab_type": "code",
        "colab": {
          "autoexec": {
            "startup": false,
            "wait_interval": 0
          }
        }
      },
      "cell_type": "code",
      "source": [
        "cd ../chart-source/"
      ],
      "execution_count": 0,
      "outputs": []
    },
    {
      "metadata": {
        "id": "QJHXIsE1aNdd",
        "colab_type": "code",
        "colab": {
          "autoexec": {
            "startup": false,
            "wait_interval": 0
          }
        }
      },
      "cell_type": "code",
      "source": [
        "sed -i s/blue/green/ templates/config-map.yaml"
      ],
      "execution_count": 0,
      "outputs": []
    },
    {
      "metadata": {
        "id": "FMZ9vwhkaPLu",
        "colab_type": "code",
        "colab": {
          "autoexec": {
            "startup": false,
            "wait_interval": 0
          }
        }
      },
      "cell_type": "code",
      "source": [
        "git add templates/config-map.yaml\n",
        "git commit -m 'Use green for page heading'"
      ],
      "execution_count": 0,
      "outputs": []
    },
    {
      "metadata": {
        "id": "hFNZyl6kaRLQ",
        "colab_type": "code",
        "colab": {
          "autoexec": {
            "startup": false,
            "wait_interval": 0
          }
        }
      },
      "cell_type": "code",
      "source": [
        "git tag v2.0.0\n",
        "git push google --mirror"
      ],
      "execution_count": 0,
      "outputs": []
    },
    {
      "metadata": {
        "id": "MpkBqoNNaTCA",
        "colab_type": "code",
        "colab": {
          "autoexec": {
            "startup": false,
            "wait_interval": 0
          }
        }
      },
      "cell_type": "code",
      "source": [
        "../fly -t local check-resource -r dev-site-deploy/chart-source"
      ],
      "execution_count": 0,
      "outputs": []
    },
    {
      "metadata": {
        "id": "qLROeQmbaVuN",
        "colab_type": "code",
        "colab": {
          "autoexec": {
            "startup": false,
            "wait_interval": 0
          }
        }
      },
      "cell_type": "code",
      "source": [
        "export POD_NAME=$(kubectl get pods \\\n",
        "    -n default -l \"app=nginx,release=dev-site\" \\\n",
        "    -o jsonpath=\"{.items[0].metadata.name}\")\n",
        "kubectl port-forward $POD_NAME 8080:80 &\n",
        "curl -is localhost:8080 | grep 'Server\\|color'"
      ],
      "execution_count": 0,
      "outputs": []
    }
  ]
}